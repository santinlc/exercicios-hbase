{
 "cells": [
  {
   "cell_type": "code",
   "execution_count": 113,
   "metadata": {},
   "outputs": [],
   "source": [
    "import pandas as pd"
   ]
  },
  {
   "cell_type": "code",
   "execution_count": 114,
   "metadata": {},
   "outputs": [],
   "source": [
    "NOME_TABELA_UNICA = '1.4-Filmes'"
   ]
  },
  {
   "cell_type": "code",
   "execution_count": 115,
   "metadata": {},
   "outputs": [
    {
     "data": {
      "text/html": [
       "<div>\n",
       "<style scoped>\n",
       "    .dataframe tbody tr th:only-of-type {\n",
       "        vertical-align: middle;\n",
       "    }\n",
       "\n",
       "    .dataframe tbody tr th {\n",
       "        vertical-align: top;\n",
       "    }\n",
       "\n",
       "    .dataframe thead th {\n",
       "        text-align: right;\n",
       "    }\n",
       "</style>\n",
       "<table border=\"1\" class=\"dataframe\">\n",
       "  <thead>\n",
       "    <tr style=\"text-align: right;\">\n",
       "      <th></th>\n",
       "      <th>idFilme</th>\n",
       "      <th>Nome</th>\n",
       "      <th>Gênero</th>\n",
       "      <th>idMidia</th>\n",
       "      <th>Idioma</th>\n",
       "      <th>Tipo</th>\n",
       "      <th>Seção</th>\n",
       "      <th>Preco</th>\n",
       "    </tr>\n",
       "  </thead>\n",
       "  <tbody>\n",
       "    <tr>\n",
       "      <th>0</th>\n",
       "      <td>656565</td>\n",
       "      <td>Uma janela suspeita</td>\n",
       "      <td>Drama</td>\n",
       "      <td>1001</td>\n",
       "      <td>dub</td>\n",
       "      <td>DVD</td>\n",
       "      <td>25</td>\n",
       "      <td>3,5</td>\n",
       "    </tr>\n",
       "    <tr>\n",
       "      <th>1</th>\n",
       "      <td>656565</td>\n",
       "      <td>Uma janela suspeita</td>\n",
       "      <td>Drama</td>\n",
       "      <td>1002</td>\n",
       "      <td>dub</td>\n",
       "      <td>VHS</td>\n",
       "      <td>25</td>\n",
       "      <td>3,5</td>\n",
       "    </tr>\n",
       "    <tr>\n",
       "      <th>2</th>\n",
       "      <td>656565</td>\n",
       "      <td>Uma janela suspeita</td>\n",
       "      <td>Drama</td>\n",
       "      <td>1003</td>\n",
       "      <td>leg</td>\n",
       "      <td>DVD</td>\n",
       "      <td>25</td>\n",
       "      <td>3,5</td>\n",
       "    </tr>\n",
       "    <tr>\n",
       "      <th>3</th>\n",
       "      <td>656565</td>\n",
       "      <td>Uma janela suspeita</td>\n",
       "      <td>Drama</td>\n",
       "      <td>1004</td>\n",
       "      <td>leg</td>\n",
       "      <td>VHS</td>\n",
       "      <td>25</td>\n",
       "      <td>3,5</td>\n",
       "    </tr>\n",
       "    <tr>\n",
       "      <th>4</th>\n",
       "      <td>323232</td>\n",
       "      <td>Minority Report</td>\n",
       "      <td>Ficção</td>\n",
       "      <td>2550</td>\n",
       "      <td>dub</td>\n",
       "      <td>DVD</td>\n",
       "      <td>32</td>\n",
       "      <td>4,2</td>\n",
       "    </tr>\n",
       "  </tbody>\n",
       "</table>\n",
       "</div>"
      ],
      "text/plain": [
       "  idFilme                 Nome  Gênero idMidia Idioma Tipo Seção Preco\n",
       "0  656565  Uma janela suspeita   Drama    1001    dub  DVD    25   3,5\n",
       "1  656565  Uma janela suspeita   Drama    1002    dub  VHS    25   3,5\n",
       "2  656565  Uma janela suspeita   Drama    1003    leg  DVD    25   3,5\n",
       "3  656565  Uma janela suspeita   Drama    1004    leg  VHS    25   3,5\n",
       "4  323232      Minority Report  Ficção    2550    dub  DVD    32   4,2"
      ]
     },
     "execution_count": 115,
     "metadata": {},
     "output_type": "execute_result"
    }
   ],
   "source": [
    "#Lendo o arquivo de dados\n",
    "df = pd.read_csv('../dados.csv',dtype='object')\n",
    "df.head()"
   ]
  },
  {
   "cell_type": "code",
   "execution_count": 116,
   "metadata": {},
   "outputs": [],
   "source": [
    "serie_filmes = df.apply(lambda x: x.to_dict(),axis=1)"
   ]
  },
  {
   "cell_type": "code",
   "execution_count": 117,
   "metadata": {},
   "outputs": [
    {
     "data": {
      "text/plain": [
       "{'idFilme': '656565',\n",
       " 'Nome': 'Uma janela suspeita',\n",
       " 'Gênero': 'Drama',\n",
       " 'idMidia': '1001',\n",
       " 'Idioma': 'dub',\n",
       " 'Tipo': 'DVD',\n",
       " 'Seção': '25',\n",
       " 'Preco': '3,5'}"
      ]
     },
     "execution_count": 117,
     "metadata": {},
     "output_type": "execute_result"
    }
   ],
   "source": [
    "serie_filmes.get(0)"
   ]
  },
  {
   "cell_type": "code",
   "execution_count": 118,
   "metadata": {},
   "outputs": [],
   "source": [
    "lista_familia_colunas = ['Gênero','Idioma','Tipo']"
   ]
  },
  {
   "cell_type": "code",
   "execution_count": 119,
   "metadata": {},
   "outputs": [],
   "source": [
    "def gerar_lista_e_colunas(nome_coluna):\n",
    "    lista_unicos = df[nome_coluna].unique().tolist()\n",
    "    lista_colunas = df.columns.tolist()\n",
    "    lista_colunas.remove(nome_coluna)\n",
    "    lista_colunas.remove('idMidia')\n",
    "    return lista_unicos,lista_colunas"
   ]
  },
  {
   "cell_type": "code",
   "execution_count": 120,
   "metadata": {},
   "outputs": [
    {
     "name": "stdout",
     "output_type": "stream",
     "text": [
      "{'Gênero': [['Drama', 'Ficção'], ['idFilme', 'Nome', 'Idioma', 'Tipo', 'Seção', 'Preco']], 'Idioma': [['dub', 'leg'], ['idFilme', 'Nome', 'Gênero', 'Tipo', 'Seção', 'Preco']], 'Tipo': [['DVD', 'VHS'], ['idFilme', 'Nome', 'Gênero', 'Idioma', 'Seção', 'Preco']]}\n"
     ]
    }
   ],
   "source": [
    "dict_familias = {}\n",
    "for familia_coluna in lista_familia_colunas:\n",
    "    familia, lista_colunas = gerar_lista_e_colunas(familia_coluna)\n",
    "    dict_familias[familia_coluna]= [familia,lista_colunas]\n",
    "print(dict_familias)"
   ]
  },
  {
   "cell_type": "code",
   "execution_count": 121,
   "metadata": {},
   "outputs": [],
   "source": [
    "def criar_put(tabela,rowkey,familia,coluna,valor):\n",
    "    return \"put '\"+tabela+\"','\"+rowkey+\"','\"+familia+\":\"+coluna+\"','\"+valor+\"'\""
   ]
  },
  {
   "cell_type": "markdown",
   "metadata": {},
   "source": [
    "# Script criação"
   ]
  },
  {
   "cell_type": "code",
   "execution_count": 122,
   "metadata": {},
   "outputs": [],
   "source": [
    "lista_familias = []\n",
    "for item in dict_familias.values():\n",
    "    lista_familias += item[0]"
   ]
  },
  {
   "cell_type": "code",
   "execution_count": 123,
   "metadata": {},
   "outputs": [],
   "source": [
    "script_create  = \"create '\"+NOME_TABELA_UNICA+\"','\"+\"','\".join(lista_familias)+\"'\""
   ]
  },
  {
   "cell_type": "code",
   "execution_count": 124,
   "metadata": {},
   "outputs": [],
   "source": [
    "lista_put = []\n",
    "for filme in serie_filmes:\n",
    "    row_key = filme['idMidia']\n",
    "    for nome_coluna,value in dict_familias.items():\n",
    "        fc = value[0]\n",
    "        fqs = value[1]\n",
    "        familia = filme[nome_coluna]\n",
    "        for fq in fqs:\n",
    "            lista_put.append(\"put '\"+NOME_TABELA_UNICA+\"','\"+row_key+\"','\"+familia+\":\"+fq+\"','\"+filme[fq]+\"'\")"
   ]
  },
  {
   "cell_type": "code",
   "execution_count": 125,
   "metadata": {},
   "outputs": [],
   "source": [
    "lista_scripts = [script_create] +lista_put"
   ]
  },
  {
   "cell_type": "code",
   "execution_count": 126,
   "metadata": {},
   "outputs": [],
   "source": [
    "with open('popular_modelo.txt', 'w') as f:\n",
    "    for item in lista_scripts:\n",
    "        f.write(\"%s\\n\" % item)"
   ]
  },
  {
   "cell_type": "code",
   "execution_count": null,
   "metadata": {},
   "outputs": [],
   "source": []
  }
 ],
 "metadata": {
  "kernelspec": {
   "display_name": "Python 3",
   "language": "python",
   "name": "python3"
  },
  "language_info": {
   "codemirror_mode": {
    "name": "ipython",
    "version": 3
   },
   "file_extension": ".py",
   "mimetype": "text/x-python",
   "name": "python",
   "nbconvert_exporter": "python",
   "pygments_lexer": "ipython3",
   "version": "3.6.5"
  }
 },
 "nbformat": 4,
 "nbformat_minor": 2
}
