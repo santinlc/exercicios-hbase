{
 "cells": [
  {
   "cell_type": "code",
   "execution_count": 65,
   "metadata": {},
   "outputs": [],
   "source": [
    "import pandas as pd"
   ]
  },
  {
   "cell_type": "code",
   "execution_count": 66,
   "metadata": {},
   "outputs": [],
   "source": [
    "NOME_TABELA_SEXO = '1.3-EMP-SEXO'\n",
    "NOME_TABELA_DEPARTAMENTO = '1.3-EMP-DEPTO'\n",
    "NOME_TABELA_GERENTE = '1.3-EMP-GERENTE'\n",
    "NOME_TABELA_UNICA = '1.3-EMP-ALL'"
   ]
  },
  {
   "cell_type": "code",
   "execution_count": 67,
   "metadata": {},
   "outputs": [
    {
     "data": {
      "text/html": [
       "<div>\n",
       "<style scoped>\n",
       "    .dataframe tbody tr th:only-of-type {\n",
       "        vertical-align: middle;\n",
       "    }\n",
       "\n",
       "    .dataframe tbody tr th {\n",
       "        vertical-align: top;\n",
       "    }\n",
       "\n",
       "    .dataframe thead th {\n",
       "        text-align: right;\n",
       "    }\n",
       "</style>\n",
       "<table border=\"1\" class=\"dataframe\">\n",
       "  <thead>\n",
       "    <tr style=\"text-align: right;\">\n",
       "      <th></th>\n",
       "      <th>ID_EMP</th>\n",
       "      <th>NOME</th>\n",
       "      <th>SOBREN</th>\n",
       "      <th>RG</th>\n",
       "      <th>DT_NASC</th>\n",
       "      <th>ENDER</th>\n",
       "      <th>SEXO</th>\n",
       "      <th>SAL</th>\n",
       "      <th>DEPTO</th>\n",
       "      <th>ID_GER</th>\n",
       "    </tr>\n",
       "  </thead>\n",
       "  <tbody>\n",
       "    <tr>\n",
       "      <th>0</th>\n",
       "      <td>17206-2</td>\n",
       "      <td>JOSE</td>\n",
       "      <td>DA SILVA</td>\n",
       "      <td>24535357</td>\n",
       "      <td>25/02/70</td>\n",
       "      <td>Rua Froriano Peixoto,25</td>\n",
       "      <td>M</td>\n",
       "      <td>7000</td>\n",
       "      <td>1</td>\n",
       "      <td>-</td>\n",
       "    </tr>\n",
       "    <tr>\n",
       "      <th>1</th>\n",
       "      <td>12584-7</td>\n",
       "      <td>CECILIA</td>\n",
       "      <td>ORTIZ REZENDE</td>\n",
       "      <td>65784123</td>\n",
       "      <td>12/10/80</td>\n",
       "      <td>Rua Marechal Deodoro da Fonseca, 335</td>\n",
       "      <td>F</td>\n",
       "      <td>3200</td>\n",
       "      <td>3</td>\n",
       "      <td>17206-2</td>\n",
       "    </tr>\n",
       "    <tr>\n",
       "      <th>2</th>\n",
       "      <td>16764-6</td>\n",
       "      <td>PEDRO</td>\n",
       "      <td>SILVESTRE</td>\n",
       "      <td>24789635</td>\n",
       "      <td>15/05/75</td>\n",
       "      <td>Rua Bela Cintra,159</td>\n",
       "      <td>M</td>\n",
       "      <td>2800</td>\n",
       "      <td>4</td>\n",
       "      <td>17206-2</td>\n",
       "    </tr>\n",
       "    <tr>\n",
       "      <th>3</th>\n",
       "      <td>17987-5</td>\n",
       "      <td>FELIPE</td>\n",
       "      <td>GUILHERMINO</td>\n",
       "      <td>25896314</td>\n",
       "      <td>19/08/82</td>\n",
       "      <td>Rua Bolívia, 348</td>\n",
       "      <td>M</td>\n",
       "      <td>1800</td>\n",
       "      <td>3</td>\n",
       "      <td>12584-7</td>\n",
       "    </tr>\n",
       "    <tr>\n",
       "      <th>4</th>\n",
       "      <td>15698-3</td>\n",
       "      <td>LUCIANA</td>\n",
       "      <td>FEITOSA</td>\n",
       "      <td>59874123</td>\n",
       "      <td>03/03/80</td>\n",
       "      <td>Rua Presidente Dutra, 25</td>\n",
       "      <td>F</td>\n",
       "      <td>1500</td>\n",
       "      <td>4</td>\n",
       "      <td>16764-5</td>\n",
       "    </tr>\n",
       "  </tbody>\n",
       "</table>\n",
       "</div>"
      ],
      "text/plain": [
       "    ID_EMP     NOME         SOBREN        RG   DT_NASC  \\\n",
       "0  17206-2     JOSE       DA SILVA  24535357  25/02/70   \n",
       "1  12584-7  CECILIA  ORTIZ REZENDE  65784123  12/10/80   \n",
       "2  16764-6   PEDRO       SILVESTRE  24789635  15/05/75   \n",
       "3  17987-5  FELIPE     GUILHERMINO  25896314  19/08/82   \n",
       "4  15698-3  LUCIANA        FEITOSA  59874123  03/03/80   \n",
       "\n",
       "                                  ENDER SEXO   SAL DEPTO   ID_GER  \n",
       "0               Rua Froriano Peixoto,25    M  7000     1        -  \n",
       "1  Rua Marechal Deodoro da Fonseca, 335    F  3200     3  17206-2  \n",
       "2                   Rua Bela Cintra,159    M  2800     4  17206-2  \n",
       "3                      Rua Bolívia, 348    M  1800     3  12584-7  \n",
       "4              Rua Presidente Dutra, 25    F  1500     4  16764-5  "
      ]
     },
     "execution_count": 67,
     "metadata": {},
     "output_type": "execute_result"
    }
   ],
   "source": [
    "#Lendo o arquivo de dados\n",
    "df = pd.read_csv('../dados.csv',dtype='object')\n",
    "df.head()"
   ]
  },
  {
   "cell_type": "code",
   "execution_count": 68,
   "metadata": {},
   "outputs": [],
   "source": [
    "serie_empregados = df.apply(lambda x: x.to_dict(),axis=1)"
   ]
  },
  {
   "cell_type": "code",
   "execution_count": 69,
   "metadata": {},
   "outputs": [
    {
     "data": {
      "text/plain": [
       "{'ID_EMP': '17206-2',\n",
       " 'NOME': 'JOSE',\n",
       " 'SOBREN': 'DA SILVA',\n",
       " 'RG': '24535357',\n",
       " 'DT_NASC': '25/02/70',\n",
       " 'ENDER': 'Rua Froriano Peixoto,25',\n",
       " 'SEXO': 'M',\n",
       " 'SAL': '7000',\n",
       " 'DEPTO': '1',\n",
       " 'ID_GER': '-'}"
      ]
     },
     "execution_count": 69,
     "metadata": {},
     "output_type": "execute_result"
    }
   ],
   "source": [
    "serie_empregados.get(0)"
   ]
  },
  {
   "cell_type": "code",
   "execution_count": 70,
   "metadata": {},
   "outputs": [],
   "source": [
    "def criar_put(tabela,rowkey,familia,coluna,valor):\n",
    "    return \"put '\"+tabela+\"','\"+rowkey+\"','\"+familia+\":\"+coluna+\"','\"+valor+\"'\""
   ]
  },
  {
   "cell_type": "code",
   "execution_count": 71,
   "metadata": {},
   "outputs": [],
   "source": [
    "def criar_put_tabela_unica(empregado,coluna,prefixo_familia):\n",
    "    return criar_put(NOME_TABELA_UNICA,empregado['ID_EMP'],prefixo_familia+\"-\"+empregado[prefixo_familia],coluna,str(empregado[coluna])) "
   ]
  },
  {
   "cell_type": "code",
   "execution_count": 72,
   "metadata": {},
   "outputs": [],
   "source": [
    "def criar_by_sexo(empregado,coluna,prefixo = False):\n",
    "    if (prefixo == False):\n",
    "        return criar_put(NOME_TABELA_SEXO,empregado['ID_EMP'],empregado['SEXO'],coluna,str(empregado[coluna]))\n",
    "    return criar_put_tabela_unica(empregado,coluna,'SEXO')"
   ]
  },
  {
   "cell_type": "code",
   "execution_count": 73,
   "metadata": {},
   "outputs": [],
   "source": [
    "def criar_by_departamento(empregado,coluna,prefixo = False):\n",
    "    if (prefixo == False):\n",
    "        return criar_put(NOME_TABELA_DEPARTAMENTO,empregado['ID_EMP'],\"D\"+str(empregado['DEPTO']),coluna,str(empregado[coluna]))\n",
    "    return criar_put_tabela_unica(empregado,coluna,'DEPTO')"
   ]
  },
  {
   "cell_type": "code",
   "execution_count": 91,
   "metadata": {},
   "outputs": [],
   "source": [
    "def criar_by_gerente(empregado,coluna,prefixo = False):\n",
    "    if (prefixo == False):\n",
    "        return criar_put(NOME_TABELA_GERENTE,empregado['ID_EMP'],''+str(empregado['ID_GER']),coluna,str(empregado[coluna]))\n",
    "    return criar_put_tabela_unica(empregado,coluna,'ID_GER')"
   ]
  },
  {
   "cell_type": "code",
   "execution_count": 75,
   "metadata": {},
   "outputs": [],
   "source": [
    "def gerar_lista_e_colunas(nome_coluna):\n",
    "    lista_unicos = df[nome_coluna].unique().tolist()\n",
    "    lista_colunas = df.columns.tolist()\n",
    "    lista_colunas.remove(nome_coluna)\n",
    "    lista_colunas.remove('ID_EMP')\n",
    "    return lista_unicos,lista_colunas"
   ]
  },
  {
   "cell_type": "markdown",
   "metadata": {},
   "source": [
    "# Modelagem 1 - Três Modelos"
   ]
  },
  {
   "cell_type": "markdown",
   "metadata": {},
   "source": [
    "## Modelo tabela sexo"
   ]
  },
  {
   "cell_type": "code",
   "execution_count": 80,
   "metadata": {},
   "outputs": [],
   "source": [
    "def gerar_lista_sexo(prefixo=False):\n",
    "    lista_sexos, lista_colunas_sexo = gerar_lista_e_colunas('SEXO')\n",
    "    script_create = \"\"\n",
    "    if (prefixo == False):\n",
    "        script_create = \"create '\"+NOME_TABELA_SEXO+\"','\"+\"','\".join(lista_sexos)+\"'\"\n",
    "    lista_put = []\n",
    "    for empregado in serie_empregados:\n",
    "        for coluna in lista_colunas_sexo:\n",
    "            lista_put.append(criar_by_sexo(empregado,coluna,prefixo))\n",
    "    return script_create,lista_put"
   ]
  },
  {
   "cell_type": "markdown",
   "metadata": {},
   "source": [
    "## Modelo tabela departamento"
   ]
  },
  {
   "cell_type": "code",
   "execution_count": 81,
   "metadata": {},
   "outputs": [],
   "source": [
    "def gerar_lista_depto(prefixo=False):\n",
    "    lista_deptos,lista_colunas_deptos = gerar_lista_e_colunas('DEPTO')\n",
    "    script_create = \"\"\n",
    "    if (prefixo == False):\n",
    "        script_create = \"create '\"+NOME_TABELA_DEPARTAMENTO+\"','D\"+\"','D\".join(lista_deptos)+\"'\"\n",
    "    lista_put = []\n",
    "    for empregado in serie_empregados:\n",
    "        for coluna in lista_colunas_deptos:\n",
    "            lista_put.append(criar_by_departamento(empregado,coluna,prefixo))\n",
    "    return script_create, lista_put"
   ]
  },
  {
   "cell_type": "markdown",
   "metadata": {},
   "source": [
    "## Modelo tabela gerente"
   ]
  },
  {
   "cell_type": "code",
   "execution_count": 82,
   "metadata": {},
   "outputs": [],
   "source": [
    "def gerar_lista_gerente(prefixo=False):\n",
    "    lista_gerentes,lista_colunas_gerentes = gerar_lista_e_colunas(\"ID_GER\")\n",
    "    script_create = \"\"\n",
    "    if (prefixo == False):\n",
    "        script_create = \"create '\"+NOME_TABELA_GERENTE+\"','\"+\"','\".join(lista_gerentes)+\"'\"\n",
    "    lista_put = []\n",
    "    for empregado in serie_empregados:\n",
    "        for coluna in lista_colunas_gerentes:\n",
    "            lista_put.append(criar_by_gerente(empregado,coluna,prefixo))\n",
    "    return script_create,lista_put"
   ]
  },
  {
   "cell_type": "code",
   "execution_count": 83,
   "metadata": {},
   "outputs": [],
   "source": [
    "script_create_by_sexo, lista_by_sexo = gerar_lista_sexo()\n",
    "script_create_by_depto, lista_by_depto = gerar_lista_depto()\n",
    "script_create_by_gerente, lista_by_gerente = gerar_lista_gerente()"
   ]
  },
  {
   "cell_type": "code",
   "execution_count": 84,
   "metadata": {},
   "outputs": [],
   "source": [
    "lista_scripts_popular_modelo1 = [script_create_by_sexo] + lista_by_sexo\n",
    "lista_scripts_popular_modelo1 += [script_create_by_depto] + lista_by_depto\n",
    "lista_scripts_popular_modelo1 += [script_create_by_gerente] + lista_by_gerente\n"
   ]
  },
  {
   "cell_type": "code",
   "execution_count": 86,
   "metadata": {},
   "outputs": [],
   "source": [
    "with open('popular_modelo1.txt', 'w') as f:\n",
    "    for item in lista_scripts_popular_modelo1:\n",
    "        f.write(\"%s\\n\" % item)"
   ]
  },
  {
   "cell_type": "markdown",
   "metadata": {},
   "source": [
    "# Modelagem 2 - Apenas um modelo"
   ]
  },
  {
   "cell_type": "code",
   "execution_count": 101,
   "metadata": {},
   "outputs": [
    {
     "data": {
      "text/plain": [
       "\"create '1.3-EMP-ALL','SEXO-M','SEXO-F','DEPTO-1','DEPTO-3','DEPTO-4','ID_GER--','ID_GER-17206-2','ID_GER-12584-7','ID_GER-16764-5'\""
      ]
     },
     "execution_count": 101,
     "metadata": {},
     "output_type": "execute_result"
    }
   ],
   "source": [
    "lista_sexos,_ =gerar_lista_e_colunas('SEXO')\n",
    "lista_deptos,_ =gerar_lista_e_colunas('DEPTO')\n",
    "lista_gerentes,_ =gerar_lista_e_colunas('ID_GER')\n",
    "script_tabela_unica = \"create '\"+NOME_TABELA_UNICA+\"','SEXO-\"+\"','SEXO-\".join(lista_sexos)+\"'\"\n",
    "script_tabela_unica +=  \",'DEPTO-\"+\"','DEPTO-\".join(lista_deptos)+\"'\"\n",
    "script_tabela_unica +=  \",'ID_GER-\"+\"','ID_GER-\".join(lista_gerentes)+\"'\"\n",
    "script_tabela_unica"
   ]
  },
  {
   "cell_type": "code",
   "execution_count": 102,
   "metadata": {},
   "outputs": [],
   "source": [
    "_, lista_familia_by_sexo = gerar_lista_sexo(prefixo=True)\n",
    "_, lista_familia_by_depto = gerar_lista_depto(prefixo=True)\n",
    "_, lista_familia_by_gerente = gerar_lista_gerente(prefixo=True)"
   ]
  },
  {
   "cell_type": "code",
   "execution_count": 103,
   "metadata": {},
   "outputs": [],
   "source": [
    "lista_scripts_popular_modelo2 = [script_tabela_unica] + lista_familia_by_sexo + lista_familia_by_depto + lista_familia_by_gerente"
   ]
  },
  {
   "cell_type": "code",
   "execution_count": 104,
   "metadata": {},
   "outputs": [],
   "source": [
    "with open('popular_modelo2.txt', 'w') as f:\n",
    "    for item in lista_scripts_popular_modelo2:\n",
    "        f.write(\"%s\\n\" % item)"
   ]
  },
  {
   "cell_type": "code",
   "execution_count": null,
   "metadata": {},
   "outputs": [],
   "source": []
  }
 ],
 "metadata": {
  "kernelspec": {
   "display_name": "Python 3",
   "language": "python",
   "name": "python3"
  },
  "language_info": {
   "codemirror_mode": {
    "name": "ipython",
    "version": 3
   },
   "file_extension": ".py",
   "mimetype": "text/x-python",
   "name": "python",
   "nbconvert_exporter": "python",
   "pygments_lexer": "ipython3",
   "version": "3.6.5"
  }
 },
 "nbformat": 4,
 "nbformat_minor": 2
}
